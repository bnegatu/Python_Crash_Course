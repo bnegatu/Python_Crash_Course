{
 "cells": [
  {
   "cell_type": "markdown",
   "metadata": {},
   "source": [
    "## Ch_7 User input and while Loops"
   ]
  },
  {
   "cell_type": "markdown",
   "metadata": {},
   "source": [
    "#### How the `input()` Function Works\n",
    "The `input()` function pauses your program and waits for the user to enter some text. Once Python receives the user’s `input, it stores it in a variable to make it convenient for you to work with."
   ]
  },
  {
   "cell_type": "code",
   "execution_count": 1,
   "metadata": {},
   "outputs": [
    {
     "name": "stdout",
     "output_type": "stream",
     "text": [
      "Tell me something, and I will repeat it back to you: Hi!\n",
      "Hi!\n"
     ]
    }
   ],
   "source": [
    "# The program waits while the user enters\n",
    "# their response and continues after the user presses enter. The response is\n",
    "# stored in the variable message, then print(message) displays the input back to\n",
    "# the user:\n",
    "    \n",
    "message = input(\"Tell me something, and I will repeat it back to you: \")\n",
    "print(message)"
   ]
  },
  {
   "cell_type": "code",
   "execution_count": 4,
   "metadata": {},
   "outputs": [
    {
     "name": "stdout",
     "output_type": "stream",
     "text": [
      "Please enter your name:Karina\n",
      "Hello, Karina!\n"
     ]
    }
   ],
   "source": [
    "name = input('Please enter your name:')\n",
    "print('Hello, ' + name + '!')"
   ]
  },
  {
   "cell_type": "markdown",
   "metadata": {},
   "source": [
    "**`Sometimes`** you’ll want to write a prompt that’s longer than one line. For example, you might want to tell the user why you’re asking for certain input."
   ]
  },
  {
   "cell_type": "code",
   "execution_count": 2,
   "metadata": {},
   "outputs": [
    {
     "name": "stdout",
     "output_type": "stream",
     "text": [
      "If you tell us who you are, we can personalize the messages you see.\n",
      "What is your first name? Claudia\n",
      "\n",
      "Hello, Claudia!\n"
     ]
    }
   ],
   "source": [
    "prompt = \"If you tell us who you are, we can personalize the messages you see.\"\n",
    "prompt += \"\\nWhat is your first name? \"\n",
    "name = input(prompt)\n",
    "\n",
    "print(\"\\nHello, \" + name + \"!\")"
   ]
  },
  {
   "cell_type": "markdown",
   "metadata": {},
   "source": [
    "### Using int() to Accept Numerical Input\n",
    "When you use the `input()` function, Python interprets everything the user enters as a string."
   ]
  },
  {
   "cell_type": "code",
   "execution_count": 3,
   "metadata": {},
   "outputs": [
    {
     "name": "stdout",
     "output_type": "stream",
     "text": [
      "How old are you? 25\n"
     ]
    }
   ],
   "source": [
    "age = input(\"How old are you? \")"
   ]
  },
  {
   "cell_type": "code",
   "execution_count": 6,
   "metadata": {},
   "outputs": [
    {
     "data": {
      "text/plain": [
       "'25'"
      ]
     },
     "execution_count": 6,
     "metadata": {},
     "output_type": "execute_result"
    }
   ],
   "source": [
    "age"
   ]
  },
  {
   "cell_type": "code",
   "execution_count": 5,
   "metadata": {},
   "outputs": [
    {
     "data": {
      "text/plain": [
       "str"
      ]
     },
     "execution_count": 5,
     "metadata": {},
     "output_type": "execute_result"
    }
   ],
   "source": [
    "type(age)"
   ]
  },
  {
   "cell_type": "code",
   "execution_count": 8,
   "metadata": {},
   "outputs": [
    {
     "name": "stdout",
     "output_type": "stream",
     "text": [
      "How old are you? 25\n"
     ]
    },
    {
     "ename": "TypeError",
     "evalue": "'>=' not supported between instances of 'str' and 'int'",
     "output_type": "error",
     "traceback": [
      "\u001b[1;31m---------------------------------------------------------------------------\u001b[0m",
      "\u001b[1;31mTypeError\u001b[0m                                 Traceback (most recent call last)",
      "\u001b[1;32m<ipython-input-8-677716768126>\u001b[0m in \u001b[0;36m<module>\u001b[1;34m\u001b[0m\n\u001b[0;32m      1\u001b[0m \u001b[0mage\u001b[0m \u001b[1;33m=\u001b[0m \u001b[0minput\u001b[0m\u001b[1;33m(\u001b[0m\u001b[1;34m\"How old are you? \"\u001b[0m\u001b[1;33m)\u001b[0m\u001b[1;33m\u001b[0m\u001b[1;33m\u001b[0m\u001b[0m\n\u001b[1;32m----> 2\u001b[1;33m \u001b[0mage\u001b[0m \u001b[1;33m>=\u001b[0m \u001b[1;36m18\u001b[0m\u001b[1;33m\u001b[0m\u001b[1;33m\u001b[0m\u001b[0m\n\u001b[0m",
      "\u001b[1;31mTypeError\u001b[0m: '>=' not supported between instances of 'str' and 'int'"
     ]
    }
   ],
   "source": [
    "# When we try to use the input to do a numerical comparison u, Python\n",
    "# produces an error because it can’t compare a string to an integer\n",
    "age = input(\"How old are you? \")\n",
    "age >= 18"
   ]
  },
  {
   "cell_type": "markdown",
   "metadata": {},
   "source": [
    "**We can resolve** this issue by using the `int()` function"
   ]
  },
  {
   "cell_type": "code",
   "execution_count": 10,
   "metadata": {},
   "outputs": [
    {
     "name": "stdout",
     "output_type": "stream",
     "text": [
      "How old are you? 25\n"
     ]
    },
    {
     "data": {
      "text/plain": [
       "True"
      ]
     },
     "execution_count": 10,
     "metadata": {},
     "output_type": "execute_result"
    }
   ],
   "source": [
    "age = input(\"How old are you? \")\n",
    "\n",
    "age = int(age)\n",
    "age >= 18"
   ]
  },
  {
   "cell_type": "markdown",
   "metadata": {},
   "source": [
    "#### Another example"
   ]
  },
  {
   "cell_type": "code",
   "execution_count": 15,
   "metadata": {},
   "outputs": [
    {
     "name": "stdout",
     "output_type": "stream",
     "text": [
      "How tall are you, in inches? 63\n",
      "\n",
      "You're tall enough to ride!\n"
     ]
    }
   ],
   "source": [
    "height = input(\"How tall are you, in inches? \")\n",
    "height = int(height)\n",
    "\n",
    "if height >= 36:\n",
    "    print(\"\\nYou're tall enough to ride!\")\n",
    "else:\n",
    "    print(\"\\nYou'll be able to ride when you're a little older.\")"
   ]
  },
  {
   "cell_type": "markdown",
   "metadata": {},
   "source": [
    "### The Modulo Operator"
   ]
  },
  {
   "cell_type": "markdown",
   "metadata": {},
   "source": [
    "- A useful tool for working with numerical information is the modulo operator (%),\n",
    " which divides one number by another number and returns the remainder.\n",
    "- When one number is divisible by another number, the remainder is 0"
   ]
  },
  {
   "cell_type": "code",
   "execution_count": 19,
   "metadata": {},
   "outputs": [
    {
     "name": "stdout",
     "output_type": "stream",
     "text": [
      "Enter a number, and I'll tell you if it's even or odd: 9\n",
      "\n",
      "The number 9 is odd.\n"
     ]
    }
   ],
   "source": [
    "number = input(\"Enter a number, and I'll tell you if it's even or odd: \")\n",
    "number = int(number)\n",
    "\n",
    "if number % 2 == 0:\n",
    "    print(\"\\nThe number \" + str(number) + \" is even.\")\n",
    "else:\n",
    "    print(\"\\nThe number \" + str(number) + \" is odd.\")"
   ]
  },
  {
   "cell_type": "markdown",
   "metadata": {},
   "source": [
    "## The while Loop in Action\n",
    "The `while loop` in Python will execute the code as long as a condition is True."
   ]
  },
  {
   "cell_type": "code",
   "execution_count": 14,
   "metadata": {},
   "outputs": [
    {
     "name": "stdout",
     "output_type": "stream",
     "text": [
      "1\n",
      "2\n",
      "3\n",
      "4\n",
      "5\n"
     ]
    }
   ],
   "source": [
    "# We can use a while loop to count up through a series of numbers.\n",
    "current_number = 1\n",
    "\n",
    "while current_number <= 5:\n",
    "    print(current_number)\n",
    "    current_number += 1"
   ]
  },
  {
   "cell_type": "markdown",
   "metadata": {},
   "source": [
    "### Letting the User Choose When to Quit"
   ]
  },
  {
   "cell_type": "code",
   "execution_count": 20,
   "metadata": {},
   "outputs": [
    {
     "name": "stdout",
     "output_type": "stream",
     "text": [
      "\n",
      "Tell me something, and I will repeat it back to you:\n",
      "Enter 'quit' to end the program. Hello\n",
      "Hello\n",
      "\n",
      "Tell me something, and I will repeat it back to you:\n",
      "Enter 'quit' to end the program. Hi\n",
      "Hi\n",
      "\n",
      "Tell me something, and I will repeat it back to you:\n",
      "Enter 'quit' to end the program. Good bye\n",
      "Good bye\n",
      "\n",
      "Tell me something, and I will repeat it back to you:\n",
      "Enter 'quit' to end the program. Ciao\n",
      "Ciao\n",
      "\n",
      "Tell me something, and I will repeat it back to you:\n",
      "Enter 'quit' to end the program. quit\n",
      "quit\n"
     ]
    }
   ],
   "source": [
    "# We’ll define a quit value and then\n",
    "# keep the program running as long as the user has not entered the quit value\n",
    "\n",
    "prompt = \"\\nTell me something, and I will repeat it back to you:\"\n",
    "prompt += \"\\nEnter 'quit' to end the program. \"\n",
    "\n",
    "message=''\n",
    "while not  message == 'quit':\n",
    "    message = input(prompt)\n",
    "    print(message)"
   ]
  },
  {
   "cell_type": "markdown",
   "metadata": {},
   "source": [
    "**This program works well**, except that it prints the word 'quit' as if it were an actual message. A simple `if` test fixes this:"
   ]
  },
  {
   "cell_type": "code",
   "execution_count": 21,
   "metadata": {},
   "outputs": [
    {
     "name": "stdout",
     "output_type": "stream",
     "text": [
      "\n",
      "Tell me something, and I will repeat it back to you:\n",
      "Enter 'quit' to end the program. hello\n",
      "hello\n",
      "\n",
      "Tell me something, and I will repeat it back to you:\n",
      "Enter 'quit' to end the program. hi\n",
      "hi\n",
      "\n",
      "Tell me something, and I will repeat it back to you:\n",
      "Enter 'quit' to end the program. quit\n"
     ]
    }
   ],
   "source": [
    "prompt = \"\\nTell me something, and I will repeat it back to you:\"\n",
    "prompt += \"\\nEnter 'quit' to end the program. \"\n",
    "message = \"\"\n",
    "\n",
    "while message != 'quit':\n",
    "    message = input(prompt)\n",
    "    if message != 'quit':\n",
    "        print(message)"
   ]
  },
  {
   "cell_type": "markdown",
   "metadata": {},
   "source": [
    "### Using a Flag\n",
    "We can define one variable that determines whether or not the entire program is active."
   ]
  },
  {
   "cell_type": "code",
   "execution_count": 1,
   "metadata": {},
   "outputs": [
    {
     "name": "stdout",
     "output_type": "stream",
     "text": [
      "\n",
      "Tell me something, and I will repeat it back to you:\n",
      "Enter 'quit' to end the program. hey\n",
      "hey\n",
      "\n",
      "Tell me something, and I will repeat it back to you:\n",
      "Enter 'quit' to end the program. quit\n"
     ]
    }
   ],
   "source": [
    "prompt = \"\\nTell me something, and I will repeat it back to you:\"\n",
    "prompt += \"\\nEnter 'quit' to end the program. \"\n",
    "\n",
    "active = True\n",
    "while active:\n",
    "    message = input(prompt)\n",
    "  \n",
    "    if message == 'quit':\n",
    "        active = False\n",
    "    else:\n",
    "        print(message)"
   ]
  },
  {
   "cell_type": "markdown",
   "metadata": {},
   "source": [
    "### Using break to Exit a Loop\n",
    "To exit a `while loop` immediately without running any remaining code in the loop, regardless of the results of any conditional test, use the `break statement`. In other words, using `break statement` help us to `breaking out of a loop entirely` without executing the rest of its code."
   ]
  },
  {
   "cell_type": "code",
   "execution_count": 2,
   "metadata": {},
   "outputs": [
    {
     "name": "stdout",
     "output_type": "stream",
     "text": [
      "\n",
      "Please enter the name of a city you have visited:\n",
      "(Enter 'quit' when you are finished.) spain\n",
      "I'd love to go to Spain!\n",
      "\n",
      "Please enter the name of a city you have visited:\n",
      "(Enter 'quit' when you are finished.) portugal\n",
      "I'd love to go to Portugal!\n",
      "\n",
      "Please enter the name of a city you have visited:\n",
      "(Enter 'quit' when you are finished.) quit\n"
     ]
    }
   ],
   "source": [
    "# Consider a program that asks the user about places they’ve visited. We can stop the while loop\n",
    "# in this program by calling break as soon as the user enters the 'quit' value\n",
    "\n",
    "prompt = \"\\nPlease enter the name of a city you have visited:\"\n",
    "prompt += \"\\n(Enter 'quit' when you are finished.) \"\n",
    "\n",
    "while True:\n",
    "    city = input(prompt)\n",
    "    if city == 'quit':\n",
    "        break\n",
    "    else:\n",
    "        print(\"I'd love to go to \" + city.title() + \"!\")\n",
    "        "
   ]
  },
  {
   "cell_type": "markdown",
   "metadata": {},
   "source": [
    "### Using continue in a Loop\n",
    "Rather than breaking out of a loop entirely without executing the rest of its code, you can use the `continue` statement to `return to the beginning of the loop` based on the result of a conditional test."
   ]
  },
  {
   "cell_type": "code",
   "execution_count": 3,
   "metadata": {},
   "outputs": [
    {
     "name": "stdout",
     "output_type": "stream",
     "text": [
      "1\n",
      "3\n",
      "5\n",
      "7\n",
      "9\n"
     ]
    }
   ],
   "source": [
    "# you can use the continue statement to return to the beginning of the\n",
    "# loop based on the result of a conditional test.\n",
    "\n",
    "current_number = 0\n",
    "while current_number < 10:\n",
    "    current_number += 1\n",
    "    if current_number % 2 == 0:\n",
    "        continue\n",
    "    print(current_number)"
   ]
  },
  {
   "cell_type": "markdown",
   "metadata": {},
   "source": [
    "### Avoiding Infinite Loops\n",
    "- Every while loop needs a way to stop running so it won’t continue to run forever."
   ]
  },
  {
   "cell_type": "code",
   "execution_count": 4,
   "metadata": {},
   "outputs": [
    {
     "name": "stdout",
     "output_type": "stream",
     "text": [
      "1\n",
      "2\n",
      "3\n",
      "4\n",
      "5\n"
     ]
    }
   ],
   "source": [
    "x = 1\n",
    "while x <= 5:\n",
    "    print(x)\n",
    "    x += 1"
   ]
  },
  {
   "cell_type": "markdown",
   "metadata": {},
   "source": [
    "**But**  if you accidentally omit the line x += 1 (as shown next), `the loop will run forever`"
   ]
  },
  {
   "cell_type": "code",
   "execution_count": null,
   "metadata": {},
   "outputs": [],
   "source": [
    "# Warning: This loop runs forever!\n",
    "\n",
    "x = 1\n",
    "while x <= 5:\n",
    "    print(x)"
   ]
  },
  {
   "cell_type": "markdown",
   "metadata": {},
   "source": [
    "### Using a while Loop with Lists and Dictionaries\n"
   ]
  },
  {
   "cell_type": "markdown",
   "metadata": {},
   "source": [
    "#### Moving Items from One List to Another"
   ]
  },
  {
   "cell_type": "code",
   "execution_count": 2,
   "metadata": {},
   "outputs": [
    {
     "name": "stdout",
     "output_type": "stream",
     "text": [
      "Verifying user: Candace\n",
      "Verifying user: Brian\n",
      "Verifying user: Alice\n",
      "\n",
      "The following users have been confirmed:\n",
      "Candace\n",
      "Brian\n",
      "Alice\n"
     ]
    }
   ],
   "source": [
    "# Start with users that need to be verified,\n",
    "unconfirmed_users = ['alice', 'brian', 'candace']\n",
    "\n",
    "# Creating an empty list to hold confirmed users.\n",
    "confirmed_users = []\n",
    "\n",
    "# The while loop runs as long as the list unconfirmed_users is not empty.\n",
    "while unconfirmed_users:\n",
    "   \n",
    "    # the pop() function removes unverified users one at a time from the end of\n",
    "    # unconfirmed_users\n",
    "    \n",
    "    current_user = unconfirmed_users.pop()\n",
    "    # Verify each user until there are no more unconfirmed users\n",
    "    print(\"Verifying user: \" + current_user.title())\n",
    "    \n",
    "    # Move each verified user into the list of confirmed users.\n",
    "    confirmed_users.append(current_user)\n",
    "    \n",
    "# Display all confirmed users.\n",
    "print(\"\\nThe following users have been confirmed:\")\n",
    "for confirmed_user in confirmed_users:\n",
    "    print(confirmed_user.title())\n",
    "    \n",
    "# Notice that when the list of unconfirmed users is empty, the loop stops and the list of confirmed users is printed:"
   ]
  },
  {
   "cell_type": "markdown",
   "metadata": {},
   "source": [
    "#### Removing All Instances of Specific Values from a List"
   ]
  },
  {
   "cell_type": "code",
   "execution_count": 33,
   "metadata": {},
   "outputs": [
    {
     "name": "stdout",
     "output_type": "stream",
     "text": [
      "['dog', 'cat', 'dog', 'goldfish', 'cat', 'rabbit', 'cat']\n",
      "['dog', 'dog', 'goldfish', 'rabbit']\n"
     ]
    }
   ],
   "source": [
    "# We have a list of pets with the value 'cat' repeated several times. To remove all instances of that value, \n",
    "# we can run a while loop until 'cat' is no longer in the list\n",
    "\n",
    "pets = ['dog', 'cat', 'dog', 'goldfish', 'cat', 'rabbit', 'cat']\n",
    "print(pets)\n",
    "while 'cat' in pets:\n",
    "    pets.remove('cat')\n",
    "print(pets)"
   ]
  },
  {
   "cell_type": "markdown",
   "metadata": {},
   "source": [
    "#### Filling a Dictionary with User Input\n",
    "Let’s make a polling program in which each pass through the loop\n",
    "prompts for the participant’s name and response. We’ll store the data we\n",
    "gather in a dictionary, because we want to connect each response with a\n",
    "particular user:"
   ]
  },
  {
   "cell_type": "code",
   "execution_count": 1,
   "metadata": {},
   "outputs": [
    {
     "name": "stdout",
     "output_type": "stream",
     "text": [
      "\n",
      "What is your name? uio\n",
      "Which mountain would you like to climb someday? abcd\n",
      "Would you like to let another person respond? (yes/ no) n\n",
      "\n",
      "What is your name? uui\n",
      "Which mountain would you like to climb someday? abcd\n",
      "Would you like to let another person respond? (yes/ no) no\n",
      "\n",
      "--- Poll Results ---\n",
      "uio would like to climb abcd.\n",
      "uui would like to climb abcd.\n"
     ]
    }
   ],
   "source": [
    "responses = {}\n",
    "\n",
    "# Set a flag to indicate that polling is active.\n",
    "polling_active = True\n",
    "\n",
    "while polling_active:\n",
    "    # Prompt for the person's name and response.\n",
    "    name = input(\"\\nWhat is your name? \")\n",
    "    response = input(\"Which mountain would you like to climb someday? \")\n",
    "   \n",
    "    # Store the response in the dictionary:\n",
    "    responses[name] = response\n",
    "    \n",
    "    # Find out if anyone else is going to take the poll.\n",
    "    repeat = input(\"Would you like to let another person respond? (yes/ no) \")\n",
    "    \n",
    "    if repeat == 'no':\n",
    "        polling_active = False\n",
    "    \n",
    "    # Polling is complete. Show the results.\n",
    "print(\"\\n--- Poll Results ---\")\n",
    "for name, response in responses.items():\n",
    "    print(name + \" would like to climb \" + response + \".\")"
   ]
  }
 ],
 "metadata": {
  "kernelspec": {
   "display_name": "Python 3",
   "language": "python",
   "name": "python3"
  },
  "language_info": {
   "codemirror_mode": {
    "name": "ipython",
    "version": 3
   },
   "file_extension": ".py",
   "mimetype": "text/x-python",
   "name": "python",
   "nbconvert_exporter": "python",
   "pygments_lexer": "ipython3",
   "version": "3.7.4"
  }
 },
 "nbformat": 4,
 "nbformat_minor": 2
}
